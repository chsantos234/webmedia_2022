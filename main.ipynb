{
 "cells": [
  {
   "cell_type": "code",
   "execution_count": 1,
   "metadata": {},
   "outputs": [],
   "source": [
    "import pandas as pd\n",
    "import numpy as np\n",
    "from pyDecision.algorithm import ahp_method"
   ]
  },
  {
   "cell_type": "code",
   "execution_count": 2,
   "metadata": {},
   "outputs": [],
   "source": [
    "df = pd.read_csv('/home/math/Downloads/webmedia_2022-main (1)/datasets/filtered_dataset_gas.csv')"
   ]
  },
  {
   "cell_type": "code",
   "execution_count": 3,
   "metadata": {},
   "outputs": [],
   "source": [
    "#indexes crime, accidents, nature, attraction, duration, traffic, length and pollution\n",
    "decision_matrix = [[1,3,7,7,5,1,1,3],          \n",
    "                   [0.33,1,7,7,1,2,2,3],        \n",
    "                   [0.14,0.14,1,2,0.2,0.2,0.14,0.5],\n",
    "                   [0.14,0.14,0.5,1,0.14,0.2,0.11,0.2],\n",
    "                   [0.2,1,5,7,1,0.33,1,3],\n",
    "                   [1, 0.5, 5, 5, 3, 1, 1, 1],\n",
    "                   [1,0.5, 7, 9, 1, 1, 1, 1],\n",
    "                   [0.33, 0.33, 2, 5, 0.33, 1, 1, 1]]\n",
    "\n",
    "decision_matrix_worker = [[1,0.33,3,3,0.14,0.14,0.11,3],\n",
    "                          [3,1,3,3,0.14,0.14,0.14,3],\n",
    "                          [0.33,0.33,1,1,0.11,0.11,0.11,0.33],\n",
    "                          [0.33,0.33,1,1,0.11,0.11,0.11,0.33],\n",
    "                          [7,7,9,9,1,2,0.5,9],\n",
    "                          [7,7,9,9,0.5,1,0.5,9],\n",
    "                          [9,7,9,9,2,2,1,9],\n",
    "                          [0.33,0.33,3,3,0.14,0.11,0.11,1]]\n",
    "\n",
    "decision_matrix_green = [[1,3,0.14,3,3,1,1,0.14],\n",
    "                         [0.33,1,0.14,0.33,3,0.33,1,0.14],\n",
    "                         [7,7,1,7,7,3,3,0.5],\n",
    "                         [0.33,3,0.14,1,3,3,3,0.2],\n",
    "                         [0.33,0.33,0.14,0.33,1,1,0.5,0.14],\n",
    "                           [1,3,0.33,0.33,1,1,0.5,0.14],\n",
    "                           [1,1,0.33,0.33,2,2,1,0.14],\n",
    "                           [7,7,2,5,7,7,7,1]]\n",
    "\n",
    "decision_matrix_safer = [[1,3,7,7,5,5,5,7],\n",
    "                         [0.33,1,9,7,5,3,5,5],\n",
    "                         [0.14,0.11,1,1,0.2,0.2,0.33,0.33],\n",
    "                         [0.14,0.14,1,1,0.2,0.2,0.2,0.2],\n",
    "                         [0.2,0.2,5,5,1,0.33,3,0.5],\n",
    "                         [0.2,0.33,5,5,3,1,5,2],\n",
    "                         [0.2,0.2,3,5,0.33,0.2,1,0.2],\n",
    "                         [0.14,0.2,3,5,2,0.5,5,1]]\n"
   ]
  },
  {
   "cell_type": "code",
   "execution_count": 4,
   "metadata": {},
   "outputs": [
    {
     "name": "stdout",
     "output_type": "stream",
     "text": [
      "w_w(feature 1):  0.044\n",
      "w_w(feature 2):  0.06\n",
      "w_w(feature 3):  0.021\n",
      "w_w(feature 4):  0.021\n",
      "w_w(feature 5):  0.268\n",
      "w_w(feature 6):  0.225\n",
      "w_w(feature 7):  0.329\n",
      "w_w(feature 8):  0.032\n",
      "RC_worker: 0.07\n",
      "The solution is consistent\n"
     ]
    }
   ],
   "source": [
    "weight_derivation = 'geometric'\n",
    "\n",
    "#weights, rc = ahp_method(decision_matrix, wd = weight_derivation)\n",
    "\n",
    "#for i in range (0, weights.shape[0]):\n",
    "    #print('w(g'+str(i+1)+'): ',round(weights[i], 3))\n",
    "\n",
    "#weights worker\n",
    "\n",
    "weights_w,rc_w = ahp_method(decision_matrix_worker, wd = weight_derivation)\n",
    "\n",
    "for i in range (0, weights_w.shape[0]):\n",
    "    print ('w_w(feature '+str(i+1)+'): ',round(weights_w[i],3))\n",
    "\n",
    "#consistency ratio worker\n",
    "\n",
    "print('RC_worker: ' + str(round(rc_w, 2)))\n",
    "if (rc_w > 0.1):\n",
    "    print('The solution is inconsistent, pairwise comparison must be reviewed')\n",
    "else:\n",
    "    print('The solution is consistent')\n"
   ]
  },
  {
   "cell_type": "code",
   "execution_count": 5,
   "metadata": {},
   "outputs": [
    {
     "name": "stdout",
     "output_type": "stream",
     "text": [
      "w_g(feature 1):  0.079\n",
      "w_g(feature 2):  0.039\n",
      "w_g(feature 3):  0.272\n",
      "w_g(feature 4):  0.082\n",
      "w_g(feature 5):  0.032\n",
      "w_g(feature 6):  0.053\n",
      "w_g(feature 7):  0.06\n",
      "w_g(feature 8):  0.383\n",
      "RC_green: 0.09\n",
      "The solution is consistent\n"
     ]
    }
   ],
   "source": [
    "#weights green\n",
    "\n",
    "weights_g,rc_g = ahp_method(decision_matrix_green, wd = weight_derivation)\n",
    "\n",
    "for i in range (0, weights_g.shape[0]):\n",
    "    print ('w_g(feature '+str(i+1)+'): ',round(weights_g[i],3))\n",
    "\n",
    "#consistency ratio green\n",
    "\n",
    "print('RC_green: ' + str(round(rc_g, 2)))\n",
    "if (rc_g > 0.1):\n",
    "    print('The solution is inconsistent, pairwise comparison must be reviewed')\n",
    "else:\n",
    "    print('The solution is consistent')"
   ]
  },
  {
   "cell_type": "code",
   "execution_count": 6,
   "metadata": {},
   "outputs": [
    {
     "name": "stdout",
     "output_type": "stream",
     "text": [
      "w_s(feature 1):  0.357\n",
      "w_s(feature 2):  0.252\n",
      "w_s(feature 3):  0.025\n",
      "w_s(feature 4):  0.022\n",
      "w_s(feature 5):  0.075\n",
      "w_s(feature 6):  0.134\n",
      "w_s(feature 7):  0.045\n",
      "w_s(feature 8):  0.09\n",
      "RC_safer: 0.09\n",
      "The solution is consistent\n"
     ]
    }
   ],
   "source": [
    "#weights_safer\n",
    "\n",
    "weights_s,rc_s = ahp_method(decision_matrix_safer, wd = weight_derivation)\n",
    "\n",
    "for i in range (0, weights_s.shape[0]):\n",
    "    print ('w_s(feature '+str(i+1)+'): ',round(weights_s[i],3))\n",
    "\n",
    "#consistency ratio safer\n",
    "\n",
    "print('RC_safer: ' + str(round(rc_s, 2)))\n",
    "if (rc_s > 0.1):\n",
    "    print('The solution is inconsistent, pairwise comparison must be reviewed')\n",
    "else:\n",
    "    print('The solution is consistent')\n"
   ]
  },
  {
   "cell_type": "code",
   "execution_count": 7,
   "metadata": {},
   "outputs": [
    {
     "data": {
      "text/plain": [
       "array([0.04408469, 0.0598695 , 0.02083589, 0.02083589, 0.26789367,\n",
       "       0.22527083, 0.32874792, 0.0324616 ])"
      ]
     },
     "execution_count": 7,
     "metadata": {},
     "output_type": "execute_result"
    }
   ],
   "source": [
    "user_test = df[df['setID'] == 56.0]\n",
    "weights_w"
   ]
  },
  {
   "cell_type": "code",
   "execution_count": 8,
   "metadata": {},
   "outputs": [
    {
     "data": {
      "text/plain": [
       "array([0.07864944, 0.03943284, 0.27192161, 0.08213207, 0.03152021,\n",
       "       0.05310667, 0.0600337 , 0.38320346])"
      ]
     },
     "execution_count": 8,
     "metadata": {},
     "output_type": "execute_result"
    }
   ],
   "source": [
    "weights_g"
   ]
  },
  {
   "cell_type": "code",
   "execution_count": 9,
   "metadata": {},
   "outputs": [
    {
     "data": {
      "text/plain": [
       "array([0.35730536, 0.2516863 , 0.02470017, 0.02246057, 0.07519683,\n",
       "       0.13372097, 0.04484505, 0.09008475])"
      ]
     },
     "execution_count": 9,
     "metadata": {},
     "output_type": "execute_result"
    }
   ],
   "source": [
    "weights_s"
   ]
  },
  {
   "cell_type": "code",
   "execution_count": 10,
   "metadata": {},
   "outputs": [],
   "source": [
    "decision_matrix_ldt = [[1,0.33,5],\n",
    "                       [3,1,7],\n",
    "                       [0.2,0.14,1]]\n",
    "\n",
    "decision_matrix_lpn = [[1,0.25,0.5],\n",
    "                       [4,1,5],\n",
    "                       [2,0.2,1]]\n",
    "\n",
    "decision_matrix_lca = [[1,0.25,0.33],\n",
    "                       [4,1,3],\n",
    "                       [3,0.33,1]]"
   ]
  },
  {
   "cell_type": "code",
   "execution_count": 11,
   "metadata": {},
   "outputs": [
    {
     "name": "stdout",
     "output_type": "stream",
     "text": [
      "w_ldt(g1):  0.278\n",
      "w_ldt(g2):  0.65\n",
      "w_ldt(g3):  0.072\n",
      "RC: 0.05\n",
      "The solution is consistent\n"
     ]
    }
   ],
   "source": [
    "#weights_(length,duration,traffic)\n",
    "weights_ldt,rc_ldt = ahp_method(decision_matrix_ldt, wd = weight_derivation)\n",
    "\n",
    "for i in range(0, weights_ldt.shape[0]):\n",
    "    print('w_ldt(g'+str(i+1)+'): ', round(weights_ldt[i], 3))\n",
    "\n",
    "#consistency_ratio_ldt\n",
    "print('RC: ' + str(round(rc_ldt, 2)))\n",
    "if (rc_ldt > 10):\n",
    "    print('The solution is inconsistent, the pairwise comparisons must be reviewed')\n",
    "else:\n",
    "    print('The solution is consistent')"
   ]
  },
  {
   "cell_type": "code",
   "execution_count": 12,
   "metadata": {},
   "outputs": [
    {
     "name": "stdout",
     "output_type": "stream",
     "text": [
      "w_lpn(g1):  0.127\n",
      "w_lpn(g2):  0.687\n",
      "w_lpn(g3):  0.186\n",
      "RC: 0.08\n",
      "The solution is consistent\n"
     ]
    }
   ],
   "source": [
    "#weights_(length,pollution,nature)\n",
    "weights_lpn,rc_lpn = ahp_method(decision_matrix_lpn, wd = weight_derivation)\n",
    "\n",
    "for i in range(0, weights_lpn.shape[0]):\n",
    "    print('w_lpn(g'+str(i+1)+'): ', round(weights_lpn[i], 3))\n",
    "\n",
    "#consistency_ratio_lpn\n",
    "print('RC: ' + str(round(rc_lpn, 2)))\n",
    "if (rc_lpn > 10):\n",
    "    print('The solution is inconsistent, the pairwise comparisons must be reviewed')\n",
    "else:\n",
    "    print('The solution is consistent')"
   ]
  },
  {
   "cell_type": "code",
   "execution_count": 13,
   "metadata": {},
   "outputs": [
    {
     "name": "stdout",
     "output_type": "stream",
     "text": [
      "w_lca(g1):  0.117\n",
      "w_lca(g2):  0.615\n",
      "w_lca(g3):  0.268\n",
      "RC: 0.06\n",
      "The solution is consistent\n"
     ]
    }
   ],
   "source": [
    "#weights_(length,crime,accident)\n",
    "weights_lca,rc_lca = ahp_method(decision_matrix_lca, wd = weight_derivation)\n",
    "\n",
    "for i in range(0, weights_lca.shape[0]):\n",
    "    print('w_lca(g'+str(i+1)+'): ', round(weights_lca[i], 3))\n",
    "\n",
    "#consistency_ratio_lca\n",
    "print('RC: ' + str(round(rc_lca, 2)))\n",
    "if (rc_lca > 10):\n",
    "    print('The solution is inconsistent, the pairwise comparisons must be reviewed')\n",
    "else:\n",
    "    print('The solution is consistent')"
   ]
  },
  {
   "cell_type": "code",
   "execution_count": 14,
   "metadata": {},
   "outputs": [
    {
     "data": {
      "text/plain": [
       "array([0.27841576, 0.65003827, 0.07154597])"
      ]
     },
     "execution_count": 14,
     "metadata": {},
     "output_type": "execute_result"
    }
   ],
   "source": [
    "weights_ldt"
   ]
  },
  {
   "cell_type": "code",
   "execution_count": 15,
   "metadata": {},
   "outputs": [
    {
     "data": {
      "text/plain": [
       "array([0.12654307, 0.68698147, 0.18647546])"
      ]
     },
     "execution_count": 15,
     "metadata": {},
     "output_type": "execute_result"
    }
   ],
   "source": [
    "weights_lpn"
   ]
  },
  {
   "cell_type": "code",
   "execution_count": 16,
   "metadata": {},
   "outputs": [
    {
     "data": {
      "text/plain": [
       "array([0.11697958, 0.61520403, 0.26781639])"
      ]
     },
     "execution_count": 16,
     "metadata": {},
     "output_type": "execute_result"
    }
   ],
   "source": [
    "weights_lca"
   ]
  },
  {
   "cell_type": "code",
   "execution_count": 17,
   "metadata": {},
   "outputs": [
    {
     "data": {
      "text/html": [
       "<div>\n",
       "<style scoped>\n",
       "    .dataframe tbody tr th:only-of-type {\n",
       "        vertical-align: middle;\n",
       "    }\n",
       "\n",
       "    .dataframe tbody tr th {\n",
       "        vertical-align: top;\n",
       "    }\n",
       "\n",
       "    .dataframe thead th {\n",
       "        text-align: right;\n",
       "    }\n",
       "</style>\n",
       "<table border=\"1\" class=\"dataframe\">\n",
       "  <thead>\n",
       "    <tr style=\"text-align: right;\">\n",
       "      <th></th>\n",
       "      <th>ID</th>\n",
       "      <th>crimeNorm</th>\n",
       "      <th>accidentNorm</th>\n",
       "      <th>natureNorm</th>\n",
       "      <th>attractionNorm</th>\n",
       "      <th>durationNorm</th>\n",
       "      <th>trafficNorm</th>\n",
       "      <th>lengthNorm</th>\n",
       "      <th>setID</th>\n",
       "      <th>crimes</th>\n",
       "      <th>accidents</th>\n",
       "      <th>attractions</th>\n",
       "      <th>nature</th>\n",
       "      <th>traffic</th>\n",
       "      <th>duration</th>\n",
       "      <th>length</th>\n",
       "      <th>coordinates</th>\n",
       "      <th>polution</th>\n",
       "      <th>polutionNorm</th>\n",
       "    </tr>\n",
       "  </thead>\n",
       "  <tbody>\n",
       "    <tr>\n",
       "      <th>18</th>\n",
       "      <td>294.0</td>\n",
       "      <td>1.000000</td>\n",
       "      <td>1.000000</td>\n",
       "      <td>0.837039</td>\n",
       "      <td>0.0</td>\n",
       "      <td>0.985915</td>\n",
       "      <td>1.000000</td>\n",
       "      <td>0.677271</td>\n",
       "      <td>56.0</td>\n",
       "      <td>159309.0</td>\n",
       "      <td>12.0</td>\n",
       "      <td>0.0</td>\n",
       "      <td>290542.753787</td>\n",
       "      <td>0.945144</td>\n",
       "      <td>1112.0</td>\n",
       "      <td>9044.0</td>\n",
       "      <td>0.01641:51.43737;0.01765:51.43787;0.0176:51.43...</td>\n",
       "      <td>25.192857</td>\n",
       "      <td>0.023417</td>\n",
       "    </tr>\n",
       "    <tr>\n",
       "      <th>19</th>\n",
       "      <td>295.0</td>\n",
       "      <td>0.920751</td>\n",
       "      <td>0.714286</td>\n",
       "      <td>0.725042</td>\n",
       "      <td>0.0</td>\n",
       "      <td>1.000000</td>\n",
       "      <td>0.715349</td>\n",
       "      <td>0.661670</td>\n",
       "      <td>56.0</td>\n",
       "      <td>175533.0</td>\n",
       "      <td>28.0</td>\n",
       "      <td>0.0</td>\n",
       "      <td>258559.537764</td>\n",
       "      <td>0.902439</td>\n",
       "      <td>1107.0</td>\n",
       "      <td>9095.0</td>\n",
       "      <td>0.01641:51.43737;0.01765:51.43787;0.0176:51.43...</td>\n",
       "      <td>25.190813</td>\n",
       "      <td>0.024077</td>\n",
       "    </tr>\n",
       "    <tr>\n",
       "      <th>20</th>\n",
       "      <td>296.0</td>\n",
       "      <td>0.922930</td>\n",
       "      <td>0.464286</td>\n",
       "      <td>0.788357</td>\n",
       "      <td>0.0</td>\n",
       "      <td>0.777465</td>\n",
       "      <td>0.747426</td>\n",
       "      <td>0.489140</td>\n",
       "      <td>56.0</td>\n",
       "      <td>175087.0</td>\n",
       "      <td>42.0</td>\n",
       "      <td>0.0</td>\n",
       "      <td>276640.563218</td>\n",
       "      <td>0.907251</td>\n",
       "      <td>1186.0</td>\n",
       "      <td>9659.0</td>\n",
       "      <td>0.01641:51.43737;0.01765:51.43787;0.0176:51.43...</td>\n",
       "      <td>25.164875</td>\n",
       "      <td>0.032446</td>\n",
       "    </tr>\n",
       "    <tr>\n",
       "      <th>21</th>\n",
       "      <td>297.0</td>\n",
       "      <td>0.979953</td>\n",
       "      <td>0.000000</td>\n",
       "      <td>0.968940</td>\n",
       "      <td>0.0</td>\n",
       "      <td>0.000000</td>\n",
       "      <td>0.116428</td>\n",
       "      <td>0.446620</td>\n",
       "      <td>56.0</td>\n",
       "      <td>163413.0</td>\n",
       "      <td>68.0</td>\n",
       "      <td>0.0</td>\n",
       "      <td>328209.585576</td>\n",
       "      <td>0.812585</td>\n",
       "      <td>1462.0</td>\n",
       "      <td>9798.0</td>\n",
       "      <td>0.01641:51.43737;0.01765:51.43787;0.0176:51.43...</td>\n",
       "      <td>24.067055</td>\n",
       "      <td>0.386669</td>\n",
       "    </tr>\n",
       "    <tr>\n",
       "      <th>22</th>\n",
       "      <td>298.0</td>\n",
       "      <td>0.837111</td>\n",
       "      <td>0.339286</td>\n",
       "      <td>1.000000</td>\n",
       "      <td>1.0</td>\n",
       "      <td>0.873239</td>\n",
       "      <td>0.491951</td>\n",
       "      <td>0.000000</td>\n",
       "      <td>56.0</td>\n",
       "      <td>192656.0</td>\n",
       "      <td>49.0</td>\n",
       "      <td>1.0</td>\n",
       "      <td>337079.532796</td>\n",
       "      <td>0.868924</td>\n",
       "      <td>1152.0</td>\n",
       "      <td>11258.0</td>\n",
       "      <td>0.01641:51.43737;0.01765:51.43787;0.0176:51.43...</td>\n",
       "      <td>25.265432</td>\n",
       "      <td>0.000000</td>\n",
       "    </tr>\n",
       "    <tr>\n",
       "      <th>23</th>\n",
       "      <td>299.0</td>\n",
       "      <td>0.525019</td>\n",
       "      <td>1.000000</td>\n",
       "      <td>0.000000</td>\n",
       "      <td>0.0</td>\n",
       "      <td>0.816901</td>\n",
       "      <td>0.876536</td>\n",
       "      <td>0.934842</td>\n",
       "      <td>56.0</td>\n",
       "      <td>256548.0</td>\n",
       "      <td>12.0</td>\n",
       "      <td>0.0</td>\n",
       "      <td>51509.146338</td>\n",
       "      <td>0.926621</td>\n",
       "      <td>1172.0</td>\n",
       "      <td>8202.0</td>\n",
       "      <td>0.01641:51.43737;0.01765:51.43787;0.01775:51.4...</td>\n",
       "      <td>24.861210</td>\n",
       "      <td>0.130426</td>\n",
       "    </tr>\n",
       "    <tr>\n",
       "      <th>24</th>\n",
       "      <td>300.0</td>\n",
       "      <td>0.000000</td>\n",
       "      <td>0.142857</td>\n",
       "      <td>0.401910</td>\n",
       "      <td>0.0</td>\n",
       "      <td>0.309859</td>\n",
       "      <td>0.000000</td>\n",
       "      <td>1.000000</td>\n",
       "      <td>56.0</td>\n",
       "      <td>364031.0</td>\n",
       "      <td>60.0</td>\n",
       "      <td>0.0</td>\n",
       "      <td>166282.854367</td>\n",
       "      <td>0.795118</td>\n",
       "      <td>1352.0</td>\n",
       "      <td>7989.0</td>\n",
       "      <td>0.01641:51.43737;0.01765:51.43787;0.0176:51.43...</td>\n",
       "      <td>22.166197</td>\n",
       "      <td>1.000000</td>\n",
       "    </tr>\n",
       "  </tbody>\n",
       "</table>\n",
       "</div>"
      ],
      "text/plain": [
       "       ID  crimeNorm  accidentNorm  natureNorm  attractionNorm  durationNorm  \\\n",
       "18  294.0   1.000000      1.000000    0.837039             0.0      0.985915   \n",
       "19  295.0   0.920751      0.714286    0.725042             0.0      1.000000   \n",
       "20  296.0   0.922930      0.464286    0.788357             0.0      0.777465   \n",
       "21  297.0   0.979953      0.000000    0.968940             0.0      0.000000   \n",
       "22  298.0   0.837111      0.339286    1.000000             1.0      0.873239   \n",
       "23  299.0   0.525019      1.000000    0.000000             0.0      0.816901   \n",
       "24  300.0   0.000000      0.142857    0.401910             0.0      0.309859   \n",
       "\n",
       "    trafficNorm  lengthNorm  setID    crimes  accidents  attractions  \\\n",
       "18     1.000000    0.677271   56.0  159309.0       12.0          0.0   \n",
       "19     0.715349    0.661670   56.0  175533.0       28.0          0.0   \n",
       "20     0.747426    0.489140   56.0  175087.0       42.0          0.0   \n",
       "21     0.116428    0.446620   56.0  163413.0       68.0          0.0   \n",
       "22     0.491951    0.000000   56.0  192656.0       49.0          1.0   \n",
       "23     0.876536    0.934842   56.0  256548.0       12.0          0.0   \n",
       "24     0.000000    1.000000   56.0  364031.0       60.0          0.0   \n",
       "\n",
       "           nature   traffic  duration   length  \\\n",
       "18  290542.753787  0.945144    1112.0   9044.0   \n",
       "19  258559.537764  0.902439    1107.0   9095.0   \n",
       "20  276640.563218  0.907251    1186.0   9659.0   \n",
       "21  328209.585576  0.812585    1462.0   9798.0   \n",
       "22  337079.532796  0.868924    1152.0  11258.0   \n",
       "23   51509.146338  0.926621    1172.0   8202.0   \n",
       "24  166282.854367  0.795118    1352.0   7989.0   \n",
       "\n",
       "                                          coordinates   polution  polutionNorm  \n",
       "18  0.01641:51.43737;0.01765:51.43787;0.0176:51.43...  25.192857      0.023417  \n",
       "19  0.01641:51.43737;0.01765:51.43787;0.0176:51.43...  25.190813      0.024077  \n",
       "20  0.01641:51.43737;0.01765:51.43787;0.0176:51.43...  25.164875      0.032446  \n",
       "21  0.01641:51.43737;0.01765:51.43787;0.0176:51.43...  24.067055      0.386669  \n",
       "22  0.01641:51.43737;0.01765:51.43787;0.0176:51.43...  25.265432      0.000000  \n",
       "23  0.01641:51.43737;0.01765:51.43787;0.01775:51.4...  24.861210      0.130426  \n",
       "24  0.01641:51.43737;0.01765:51.43787;0.0176:51.43...  22.166197      1.000000  "
      ]
     },
     "execution_count": 17,
     "metadata": {},
     "output_type": "execute_result"
    }
   ],
   "source": [
    "user_test"
   ]
  },
  {
   "cell_type": "code",
   "execution_count": 18,
   "metadata": {},
   "outputs": [
    {
     "data": {
      "text/html": [
       "<div>\n",
       "<style scoped>\n",
       "    .dataframe tbody tr th:only-of-type {\n",
       "        vertical-align: middle;\n",
       "    }\n",
       "\n",
       "    .dataframe tbody tr th {\n",
       "        vertical-align: top;\n",
       "    }\n",
       "\n",
       "    .dataframe thead th {\n",
       "        text-align: right;\n",
       "    }\n",
       "</style>\n",
       "<table border=\"1\" class=\"dataframe\">\n",
       "  <thead>\n",
       "    <tr style=\"text-align: right;\">\n",
       "      <th></th>\n",
       "      <th>ID</th>\n",
       "      <th>crimeNorm</th>\n",
       "      <th>accidentNorm</th>\n",
       "      <th>natureNorm</th>\n",
       "      <th>attractionNorm</th>\n",
       "      <th>durationNorm</th>\n",
       "      <th>trafficNorm</th>\n",
       "      <th>lengthNorm</th>\n",
       "      <th>setID</th>\n",
       "      <th>crimes</th>\n",
       "      <th>accidents</th>\n",
       "      <th>attractions</th>\n",
       "      <th>nature</th>\n",
       "      <th>traffic</th>\n",
       "      <th>duration</th>\n",
       "      <th>length</th>\n",
       "      <th>coordinates</th>\n",
       "      <th>polution</th>\n",
       "      <th>polutionNorm</th>\n",
       "    </tr>\n",
       "  </thead>\n",
       "  <tbody>\n",
       "    <tr>\n",
       "      <th>0</th>\n",
       "      <td>30.0</td>\n",
       "      <td>0.920527</td>\n",
       "      <td>0.924528</td>\n",
       "      <td>0.212596</td>\n",
       "      <td>0.000000</td>\n",
       "      <td>1.000000</td>\n",
       "      <td>0.889155</td>\n",
       "      <td>0.428035</td>\n",
       "      <td>7.0</td>\n",
       "      <td>310580.0</td>\n",
       "      <td>61.0</td>\n",
       "      <td>0.0</td>\n",
       "      <td>837166.117353</td>\n",
       "      <td>0.936039</td>\n",
       "      <td>1454.0</td>\n",
       "      <td>18727.0</td>\n",
       "      <td>-0.2677:51.533778;-0.2677:51.53326;-0.26763:51...</td>\n",
       "      <td>35.750511</td>\n",
       "      <td>0.177211</td>\n",
       "    </tr>\n",
       "    <tr>\n",
       "      <th>1</th>\n",
       "      <td>31.0</td>\n",
       "      <td>1.000000</td>\n",
       "      <td>0.490566</td>\n",
       "      <td>0.051620</td>\n",
       "      <td>0.000000</td>\n",
       "      <td>0.995633</td>\n",
       "      <td>1.000000</td>\n",
       "      <td>1.000000</td>\n",
       "      <td>7.0</td>\n",
       "      <td>298705.0</td>\n",
       "      <td>84.0</td>\n",
       "      <td>0.0</td>\n",
       "      <td>823320.786870</td>\n",
       "      <td>0.945704</td>\n",
       "      <td>1455.0</td>\n",
       "      <td>17356.0</td>\n",
       "      <td>-0.2677:51.533778;-0.2677:51.53326;-0.26763:51...</td>\n",
       "      <td>34.997732</td>\n",
       "      <td>0.497272</td>\n",
       "    </tr>\n",
       "    <tr>\n",
       "      <th>2</th>\n",
       "      <td>32.0</td>\n",
       "      <td>0.974080</td>\n",
       "      <td>0.471698</td>\n",
       "      <td>0.688265</td>\n",
       "      <td>0.000000</td>\n",
       "      <td>0.877729</td>\n",
       "      <td>0.407789</td>\n",
       "      <td>0.776387</td>\n",
       "      <td>7.0</td>\n",
       "      <td>302578.0</td>\n",
       "      <td>85.0</td>\n",
       "      <td>0.0</td>\n",
       "      <td>878077.719383</td>\n",
       "      <td>0.894062</td>\n",
       "      <td>1482.0</td>\n",
       "      <td>17892.0</td>\n",
       "      <td>-0.2677:51.533778;-0.2677:51.53326;-0.26763:51...</td>\n",
       "      <td>34.748889</td>\n",
       "      <td>0.603073</td>\n",
       "    </tr>\n",
       "    <tr>\n",
       "      <th>3</th>\n",
       "      <td>33.0</td>\n",
       "      <td>0.172486</td>\n",
       "      <td>1.000000</td>\n",
       "      <td>0.152550</td>\n",
       "      <td>0.500000</td>\n",
       "      <td>0.000000</td>\n",
       "      <td>0.866310</td>\n",
       "      <td>0.000000</td>\n",
       "      <td>7.0</td>\n",
       "      <td>422353.0</td>\n",
       "      <td>57.0</td>\n",
       "      <td>1.0</td>\n",
       "      <td>832001.606618</td>\n",
       "      <td>0.934046</td>\n",
       "      <td>1683.0</td>\n",
       "      <td>19753.0</td>\n",
       "      <td>-0.2677:51.533778;-0.2677:51.53326;-0.26763:51...</td>\n",
       "      <td>33.829126</td>\n",
       "      <td>0.994132</td>\n",
       "    </tr>\n",
       "    <tr>\n",
       "      <th>4</th>\n",
       "      <td>34.0</td>\n",
       "      <td>0.000000</td>\n",
       "      <td>0.924528</td>\n",
       "      <td>0.000000</td>\n",
       "      <td>1.000000</td>\n",
       "      <td>0.344978</td>\n",
       "      <td>0.771865</td>\n",
       "      <td>0.095953</td>\n",
       "      <td>7.0</td>\n",
       "      <td>448126.0</td>\n",
       "      <td>61.0</td>\n",
       "      <td>2.0</td>\n",
       "      <td>818881.017743</td>\n",
       "      <td>0.925810</td>\n",
       "      <td>1604.0</td>\n",
       "      <td>19523.0</td>\n",
       "      <td>-0.2677:51.533778;-0.2677:51.53326;-0.26763:51...</td>\n",
       "      <td>33.815324</td>\n",
       "      <td>1.000000</td>\n",
       "    </tr>\n",
       "    <tr>\n",
       "      <th>...</th>\n",
       "      <td>...</td>\n",
       "      <td>...</td>\n",
       "      <td>...</td>\n",
       "      <td>...</td>\n",
       "      <td>...</td>\n",
       "      <td>...</td>\n",
       "      <td>...</td>\n",
       "      <td>...</td>\n",
       "      <td>...</td>\n",
       "      <td>...</td>\n",
       "      <td>...</td>\n",
       "      <td>...</td>\n",
       "      <td>...</td>\n",
       "      <td>...</td>\n",
       "      <td>...</td>\n",
       "      <td>...</td>\n",
       "      <td>...</td>\n",
       "      <td>...</td>\n",
       "      <td>...</td>\n",
       "    </tr>\n",
       "    <tr>\n",
       "      <th>665</th>\n",
       "      <td>3158.0</td>\n",
       "      <td>0.865327</td>\n",
       "      <td>0.905172</td>\n",
       "      <td>0.000000</td>\n",
       "      <td>0.454545</td>\n",
       "      <td>1.000000</td>\n",
       "      <td>0.952936</td>\n",
       "      <td>1.000000</td>\n",
       "      <td>598.0</td>\n",
       "      <td>945244.0</td>\n",
       "      <td>157.0</td>\n",
       "      <td>9.0</td>\n",
       "      <td>527463.871935</td>\n",
       "      <td>0.862765</td>\n",
       "      <td>1982.0</td>\n",
       "      <td>13369.0</td>\n",
       "      <td>-0.073976:51.470078;-0.07394:51.46994;-0.07388...</td>\n",
       "      <td>30.705686</td>\n",
       "      <td>0.344696</td>\n",
       "    </tr>\n",
       "    <tr>\n",
       "      <th>666</th>\n",
       "      <td>3159.0</td>\n",
       "      <td>1.000000</td>\n",
       "      <td>1.000000</td>\n",
       "      <td>0.069511</td>\n",
       "      <td>0.000000</td>\n",
       "      <td>0.984866</td>\n",
       "      <td>1.000000</td>\n",
       "      <td>0.914072</td>\n",
       "      <td>598.0</td>\n",
       "      <td>890976.0</td>\n",
       "      <td>146.0</td>\n",
       "      <td>4.0</td>\n",
       "      <td>541806.384165</td>\n",
       "      <td>0.873684</td>\n",
       "      <td>1995.0</td>\n",
       "      <td>13587.0</td>\n",
       "      <td>-0.073976:51.470078;-0.07404:51.47032;-0.07423...</td>\n",
       "      <td>30.809028</td>\n",
       "      <td>0.309245</td>\n",
       "    </tr>\n",
       "    <tr>\n",
       "      <th>667</th>\n",
       "      <td>3160.0</td>\n",
       "      <td>0.000000</td>\n",
       "      <td>0.482759</td>\n",
       "      <td>1.000000</td>\n",
       "      <td>0.363636</td>\n",
       "      <td>0.000000</td>\n",
       "      <td>0.000000</td>\n",
       "      <td>0.000000</td>\n",
       "      <td>598.0</td>\n",
       "      <td>1293936.0</td>\n",
       "      <td>206.0</td>\n",
       "      <td>8.0</td>\n",
       "      <td>733799.038202</td>\n",
       "      <td>0.641675</td>\n",
       "      <td>2841.0</td>\n",
       "      <td>15906.0</td>\n",
       "      <td>-0.073976:51.470078;-0.07394:51.46994;-0.07388...</td>\n",
       "      <td>31.710485</td>\n",
       "      <td>0.000000</td>\n",
       "    </tr>\n",
       "    <tr>\n",
       "      <th>668</th>\n",
       "      <td>3161.0</td>\n",
       "      <td>0.191761</td>\n",
       "      <td>0.327586</td>\n",
       "      <td>0.284930</td>\n",
       "      <td>0.727273</td>\n",
       "      <td>0.176950</td>\n",
       "      <td>0.343876</td>\n",
       "      <td>0.511234</td>\n",
       "      <td>598.0</td>\n",
       "      <td>1216664.0</td>\n",
       "      <td>224.0</td>\n",
       "      <td>12.0</td>\n",
       "      <td>586254.998908</td>\n",
       "      <td>0.721458</td>\n",
       "      <td>2689.0</td>\n",
       "      <td>14609.0</td>\n",
       "      <td>-0.073976:51.470078;-0.07404:51.47032;-0.07423...</td>\n",
       "      <td>28.795455</td>\n",
       "      <td>1.000000</td>\n",
       "    </tr>\n",
       "    <tr>\n",
       "      <th>669</th>\n",
       "      <td>3162.0</td>\n",
       "      <td>0.094392</td>\n",
       "      <td>0.000000</td>\n",
       "      <td>0.059355</td>\n",
       "      <td>1.000000</td>\n",
       "      <td>0.231665</td>\n",
       "      <td>0.227897</td>\n",
       "      <td>0.662594</td>\n",
       "      <td>598.0</td>\n",
       "      <td>1255900.0</td>\n",
       "      <td>262.0</td>\n",
       "      <td>15.0</td>\n",
       "      <td>539710.909985</td>\n",
       "      <td>0.694550</td>\n",
       "      <td>2642.0</td>\n",
       "      <td>14225.0</td>\n",
       "      <td>-0.073976:51.470078;-0.07394:51.46994;-0.07388...</td>\n",
       "      <td>29.156357</td>\n",
       "      <td>0.876192</td>\n",
       "    </tr>\n",
       "  </tbody>\n",
       "</table>\n",
       "<p>670 rows × 19 columns</p>\n",
       "</div>"
      ],
      "text/plain": [
       "         ID  crimeNorm  accidentNorm  natureNorm  attractionNorm  \\\n",
       "0      30.0   0.920527      0.924528    0.212596        0.000000   \n",
       "1      31.0   1.000000      0.490566    0.051620        0.000000   \n",
       "2      32.0   0.974080      0.471698    0.688265        0.000000   \n",
       "3      33.0   0.172486      1.000000    0.152550        0.500000   \n",
       "4      34.0   0.000000      0.924528    0.000000        1.000000   \n",
       "..      ...        ...           ...         ...             ...   \n",
       "665  3158.0   0.865327      0.905172    0.000000        0.454545   \n",
       "666  3159.0   1.000000      1.000000    0.069511        0.000000   \n",
       "667  3160.0   0.000000      0.482759    1.000000        0.363636   \n",
       "668  3161.0   0.191761      0.327586    0.284930        0.727273   \n",
       "669  3162.0   0.094392      0.000000    0.059355        1.000000   \n",
       "\n",
       "     durationNorm  trafficNorm  lengthNorm  setID     crimes  accidents  \\\n",
       "0        1.000000     0.889155    0.428035    7.0   310580.0       61.0   \n",
       "1        0.995633     1.000000    1.000000    7.0   298705.0       84.0   \n",
       "2        0.877729     0.407789    0.776387    7.0   302578.0       85.0   \n",
       "3        0.000000     0.866310    0.000000    7.0   422353.0       57.0   \n",
       "4        0.344978     0.771865    0.095953    7.0   448126.0       61.0   \n",
       "..            ...          ...         ...    ...        ...        ...   \n",
       "665      1.000000     0.952936    1.000000  598.0   945244.0      157.0   \n",
       "666      0.984866     1.000000    0.914072  598.0   890976.0      146.0   \n",
       "667      0.000000     0.000000    0.000000  598.0  1293936.0      206.0   \n",
       "668      0.176950     0.343876    0.511234  598.0  1216664.0      224.0   \n",
       "669      0.231665     0.227897    0.662594  598.0  1255900.0      262.0   \n",
       "\n",
       "     attractions         nature   traffic  duration   length  \\\n",
       "0            0.0  837166.117353  0.936039    1454.0  18727.0   \n",
       "1            0.0  823320.786870  0.945704    1455.0  17356.0   \n",
       "2            0.0  878077.719383  0.894062    1482.0  17892.0   \n",
       "3            1.0  832001.606618  0.934046    1683.0  19753.0   \n",
       "4            2.0  818881.017743  0.925810    1604.0  19523.0   \n",
       "..           ...            ...       ...       ...      ...   \n",
       "665          9.0  527463.871935  0.862765    1982.0  13369.0   \n",
       "666          4.0  541806.384165  0.873684    1995.0  13587.0   \n",
       "667          8.0  733799.038202  0.641675    2841.0  15906.0   \n",
       "668         12.0  586254.998908  0.721458    2689.0  14609.0   \n",
       "669         15.0  539710.909985  0.694550    2642.0  14225.0   \n",
       "\n",
       "                                           coordinates   polution  \\\n",
       "0    -0.2677:51.533778;-0.2677:51.53326;-0.26763:51...  35.750511   \n",
       "1    -0.2677:51.533778;-0.2677:51.53326;-0.26763:51...  34.997732   \n",
       "2    -0.2677:51.533778;-0.2677:51.53326;-0.26763:51...  34.748889   \n",
       "3    -0.2677:51.533778;-0.2677:51.53326;-0.26763:51...  33.829126   \n",
       "4    -0.2677:51.533778;-0.2677:51.53326;-0.26763:51...  33.815324   \n",
       "..                                                 ...        ...   \n",
       "665  -0.073976:51.470078;-0.07394:51.46994;-0.07388...  30.705686   \n",
       "666  -0.073976:51.470078;-0.07404:51.47032;-0.07423...  30.809028   \n",
       "667  -0.073976:51.470078;-0.07394:51.46994;-0.07388...  31.710485   \n",
       "668  -0.073976:51.470078;-0.07404:51.47032;-0.07423...  28.795455   \n",
       "669  -0.073976:51.470078;-0.07394:51.46994;-0.07388...  29.156357   \n",
       "\n",
       "     polutionNorm  \n",
       "0        0.177211  \n",
       "1        0.497272  \n",
       "2        0.603073  \n",
       "3        0.994132  \n",
       "4        1.000000  \n",
       "..            ...  \n",
       "665      0.344696  \n",
       "666      0.309245  \n",
       "667      0.000000  \n",
       "668      1.000000  \n",
       "669      0.876192  \n",
       "\n",
       "[670 rows x 19 columns]"
      ]
     },
     "execution_count": 18,
     "metadata": {},
     "output_type": "execute_result"
    }
   ],
   "source": [
    "df"
   ]
  },
  {
   "cell_type": "code",
   "execution_count": 19,
   "metadata": {},
   "outputs": [
    {
     "data": {
      "text/plain": [
       "[0.8341977031545686,\n",
       " 0.7458071526091548,\n",
       " 0.6234179524213149,\n",
       " 0.2489946608524331,\n",
       " 0.44364602409876425,\n",
       " 0.8108769395897414,\n",
       " 0.4611457798024384]"
      ]
     },
     "execution_count": 19,
     "metadata": {},
     "output_type": "execute_result"
    }
   ],
   "source": [
    "#worker\n",
    "def evaluate_routes(routes, weights_w, columns):\n",
    "    routes_parameters = routes[columns[1:]]\n",
    "    results_array = []\n",
    "    result = 0\n",
    "    for route in routes_parameters.iterrows():\n",
    "        result = np.multiply(np.array(route[1]), np.array(weights_w))\n",
    "        results_array.append(np.sum(result))\n",
    "    #print(results_array)\n",
    "    return results_array\n",
    "\n",
    "columns = ['ID', 'crimeNorm', 'accidentNorm', 'natureNorm', 'attractionNorm', 'durationNorm',\n",
    "           'trafficNorm', 'lengthNorm', 'polutionNorm']\n",
    "\n",
    "\n",
    "evaluate_routes(user_test, weights_w, columns)\n"
   ]
  },
  {
   "cell_type": "code",
   "execution_count": 20,
   "metadata": {},
   "outputs": [
    {
     "name": "stdout",
     "output_type": "stream",
     "text": [
      "[0.47950686099333306, 0.41619615825276174, 0.411264746728797, 0.521716444889885, 0.48692156612185683, 0.2591260440119013, 0.5679253745447104]\n"
     ]
    },
    {
     "data": {
      "text/plain": [
       "[0.47950686099333306,\n",
       " 0.41619615825276174,\n",
       " 0.411264746728797,\n",
       " 0.521716444889885,\n",
       " 0.48692156612185683,\n",
       " 0.2591260440119013,\n",
       " 0.5679253745447104]"
      ]
     },
     "execution_count": 20,
     "metadata": {},
     "output_type": "execute_result"
    }
   ],
   "source": [
    "#green\n",
    "def evaluate_routes(routes, weights_g, columns):\n",
    "    routes_parameters = routes[columns[1:]]\n",
    "    results_array = []\n",
    "    result = 0\n",
    "    for route in routes_parameters.iterrows():\n",
    "        result = np.multiply(np.array(route[1]), np.array(weights_g))\n",
    "        results_array.append(np.sum(result))\n",
    "    print(results_array)\n",
    "    return results_array\n",
    "\n",
    "columns = ['ID', 'crimeNorm', 'accidentNorm', 'natureNorm', 'attractionNorm', 'durationNorm',\n",
    "           'trafficNorm', 'lengthNorm', 'polutionNorm']\n",
    "\n",
    "evaluate_routes(user_test, weights_g, columns)"
   ]
  },
  {
   "cell_type": "code",
   "execution_count": 21,
   "metadata": {},
   "outputs": [
    {
     "name": "stdout",
     "output_type": "stream",
     "text": [
      "[0.8700071434061504, 0.7293694907292592, 0.6493623721127327, 0.4445060149284603, 0.5631075379208146, 0.6715906600482953, 0.20411266426505326]\n"
     ]
    },
    {
     "data": {
      "text/plain": [
       "[0.8700071434061504,\n",
       " 0.7293694907292592,\n",
       " 0.6493623721127327,\n",
       " 0.4445060149284603,\n",
       " 0.5631075379208146,\n",
       " 0.6715906600482953,\n",
       " 0.20411266426505326]"
      ]
     },
     "execution_count": 21,
     "metadata": {},
     "output_type": "execute_result"
    }
   ],
   "source": [
    "#safer\n",
    "def evaluate_routes(routes, weights_s, columns):\n",
    "    routes_parameters = routes[columns[1:]]\n",
    "    results_array = []\n",
    "    result = 0\n",
    "    for route in routes_parameters.iterrows():\n",
    "        result = np.multiply(np.array(route[1]), np.array(weights_s))\n",
    "        results_array.append(np.sum(result))\n",
    "    print(results_array)\n",
    "    return results_array\n",
    "\n",
    "columns = ['ID', 'crimeNorm', 'accidentNorm', 'natureNorm', 'attractionNorm', 'durationNorm',\n",
    "           'trafficNorm', 'lengthNorm', 'polutionNorm']\n",
    "\n",
    "evaluate_routes(user_test, weights_s, columns)"
   ]
  },
  {
   "cell_type": "code",
   "execution_count": 22,
   "metadata": {},
   "outputs": [
    {
     "name": "stdout",
     "output_type": "stream",
     "text": [
      "[0.900991786200466, 0.8854380592317804, 0.6950415513032885, 0.13267592481732068, 0.6028361918064982, 0.8540046839857318, 0.47983606727822037]\n"
     ]
    },
    {
     "data": {
      "text/plain": [
       "[0.900991786200466,\n",
       " 0.8854380592317804,\n",
       " 0.6950415513032885,\n",
       " 0.13267592481732068,\n",
       " 0.6028361918064982,\n",
       " 0.8540046839857318,\n",
       " 0.47983606727822037]"
      ]
     },
     "execution_count": 22,
     "metadata": {},
     "output_type": "execute_result"
    }
   ],
   "source": [
    "#ldt\n",
    "def evaluate_routes(routes, weights_ldt, columns_ldt):\n",
    "    routes_parameters = routes[columns_ldt[1:]]\n",
    "    results_array = []\n",
    "    result = 0\n",
    "    for route in routes_parameters.iterrows():\n",
    "        result = np.multiply(np.array(route[1]), np.array(weights_ldt))\n",
    "        results_array.append(np.sum(result))\n",
    "    print(results_array)\n",
    "    return results_array\n",
    "\n",
    "columns_ldt = ['ID', 'lengthNorm', 'durationNorm', 'trafficNorm']\n",
    "\n",
    "evaluate_routes(user_test, weights_ldt, columns_ldt)"
   ]
  },
  {
   "cell_type": "code",
   "execution_count": 23,
   "metadata": {},
   "outputs": [
    {
     "name": "stdout",
     "output_type": "stream",
     "text": [
      "[0.2578783467003911, 0.23547248951940947, 0.23119631565294496, 0.5028342191374807, 0.18647546059949716, 0.20789837184166488, 0.8884709662162056]\n"
     ]
    },
    {
     "data": {
      "text/plain": [
       "[0.2578783467003911,\n",
       " 0.23547248951940947,\n",
       " 0.23119631565294496,\n",
       " 0.5028342191374807,\n",
       " 0.18647546059949716,\n",
       " 0.20789837184166488,\n",
       " 0.8884709662162056]"
      ]
     },
     "execution_count": 23,
     "metadata": {},
     "output_type": "execute_result"
    }
   ],
   "source": [
    "#lpn\n",
    "def evaluate_routes(routes, weights_lpn, columns_lpn):\n",
    "    routes_parameters = routes[columns_lpn[1:]]\n",
    "    results_array = []\n",
    "    result = 0\n",
    "    for route in routes_parameters.iterrows():\n",
    "        result = np.multiply(np.array(route[1]), np.array(weights_lpn))\n",
    "        results_array.append(np.sum(result))\n",
    "    print(results_array)\n",
    "    return results_array\n",
    "\n",
    "columns_lpn = ['ID', 'lengthNorm', 'polutionNorm', 'natureNorm']\n",
    "\n",
    "evaluate_routes(user_test, weights_lpn, columns_lpn)"
   ]
  },
  {
   "cell_type": "code",
   "execution_count": 24,
   "metadata": {},
   "outputs": [
    {
     "name": "stdout",
     "output_type": "stream",
     "text": [
      "[0.9622473354548298, 0.8351490940073469, 0.7493527907474696, 0.6551166110511848, 0.6058602184317532, 0.7001678555158772, 0.15523906763280482]\n"
     ]
    },
    {
     "data": {
      "text/plain": [
       "[0.9622473354548298,\n",
       " 0.8351490940073469,\n",
       " 0.7493527907474696,\n",
       " 0.6551166110511848,\n",
       " 0.6058602184317532,\n",
       " 0.7001678555158772,\n",
       " 0.15523906763280482]"
      ]
     },
     "execution_count": 24,
     "metadata": {},
     "output_type": "execute_result"
    }
   ],
   "source": [
    "#lca\n",
    "def evaluate_routes(routes, weights_lca, columns_lca):\n",
    "    routes_parameters = routes[columns_lca[1:]]\n",
    "    results_array = []\n",
    "    result = 0\n",
    "    for route in routes_parameters.iterrows():\n",
    "        result = np.multiply(np.array(route[1]), np.array(weights_lca))\n",
    "        results_array.append(np.sum(result))\n",
    "    print(results_array)\n",
    "    return results_array\n",
    "\n",
    "columns_lca = ['ID', 'lengthNorm', 'crimeNorm', 'accidentNorm']\n",
    "\n",
    "evaluate_routes(user_test, weights_lca, columns_lca)"
   ]
  }
 ],
 "metadata": {
  "kernelspec": {
   "display_name": "Python 3 (ipykernel)",
   "language": "python",
   "name": "python3"
  },
  "language_info": {
   "codemirror_mode": {
    "name": "ipython",
    "version": 3
   },
   "file_extension": ".py",
   "mimetype": "text/x-python",
   "name": "python",
   "nbconvert_exporter": "python",
   "pygments_lexer": "ipython3",
   "version": "3.10.6"
  },
  "vscode": {
   "interpreter": {
    "hash": "916dbcbb3f70747c44a77c7bcd40155683ae19c65e1c03b4aa3499c5328201f1"
   }
  }
 },
 "nbformat": 4,
 "nbformat_minor": 2
}
