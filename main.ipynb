{
 "cells": [
  {
   "cell_type": "code",
   "execution_count": 4,
   "metadata": {},
   "outputs": [],
   "source": [
    "import pandas as pd\n",
    "import numpy as np\n",
    "from pyDecision.algorithm import ahp_method"
   ]
  },
  {
   "cell_type": "code",
   "execution_count": 8,
   "metadata": {},
   "outputs": [],
   "source": [
    "df = pd.read_csv('/home/math/Downloads/webmedia_2022-main (1)/datasets/filtered_dataset_gas.csv')"
   ]
  },
  {
   "cell_type": "code",
   "execution_count": 9,
   "metadata": {},
   "outputs": [],
   "source": [
    "#indexes crime, accidents, nature, duration, traffic, length and pollution\n",
    "decision_matrix = [[1,3,7,7,5,1,1,3],          \n",
    "                   [0.33,1,7,7,1,2,2,3],        \n",
    "                   [0.14,0.14,1,2,0.2,0.2,0.14,0.5],\n",
    "                   [0.14,0.14,0.5,1,0.14,0.2,0.11,0.2],\n",
    "                   [0.2,1,5,7,1,0.33,1,3],\n",
    "                   [1, 0.5, 5, 5, 3, 1, 1, 1],\n",
    "                   [1,0.5, 7, 9, 1, 1, 1, 1],\n",
    "                   [0.33, 0.33, 2, 5, 0.33, 1, 1, 1]]"
   ]
  },
  {
   "cell_type": "code",
   "execution_count": 10,
   "metadata": {},
   "outputs": [
    {
     "name": "stdout",
     "output_type": "stream",
     "text": [
      "w(g1):  0.253\n",
      "w(g2):  0.187\n",
      "w(g3):  0.031\n",
      "w(g4):  0.021\n",
      "w(g5):  0.123\n",
      "w(g6):  0.152\n",
      "w(g7):  0.149\n",
      "w(g8):  0.085\n",
      "RC: 0.07\n",
      "The solution is consistent\n"
     ]
    }
   ],
   "source": [
    "weight_derivation = 'geometric'\n",
    "\n",
    "weights, rc = ahp_method(decision_matrix, wd = weight_derivation)\n",
    "\n",
    "for i in range (0, weights.shape[0]):\n",
    "    print('w(g'+str(i+1)+'): ',round(weights[i], 3))\n",
    "\n",
    "#consistency ratio\n",
    "print('RC: ' + str(round(rc, 2)))\n",
    "if (rc > 0.1):\n",
    "    print('The solution is inconsistent, pairwise comparison must be reviewed')\n",
    "else:\n",
    "    print('The solution is consistent')"
   ]
  }
 ],
 "metadata": {
  "kernelspec": {
   "display_name": "Python 3.10.6 64-bit",
   "language": "python",
   "name": "python3"
  },
  "language_info": {
   "codemirror_mode": {
    "name": "ipython",
    "version": 3
   },
   "file_extension": ".py",
   "mimetype": "text/x-python",
   "name": "python",
   "nbconvert_exporter": "python",
   "pygments_lexer": "ipython3",
   "version": "3.10.6"
  },
  "orig_nbformat": 4,
  "vscode": {
   "interpreter": {
    "hash": "916dbcbb3f70747c44a77c7bcd40155683ae19c65e1c03b4aa3499c5328201f1"
   }
  }
 },
 "nbformat": 4,
 "nbformat_minor": 2
}
