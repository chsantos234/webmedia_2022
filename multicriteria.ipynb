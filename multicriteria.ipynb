{
 "cells": [
  {
   "cell_type": "code",
   "execution_count": null,
   "metadata": {},
   "outputs": [],
   "source": [
    "import pandas as pd\n",
    "import numpy as np"
   ]
  },
  {
   "cell_type": "code",
   "execution_count": null,
   "metadata": {},
   "outputs": [],
   "source": [
    "df = pd.read_csv('datasets/filtered_dataset_gas.csv')"
   ]
  },
  {
   "cell_type": "markdown",
   "metadata": {},
   "source": [
    "In order for our solution to be tested , we take a single set and evaluate the best path using the AHP metolodogy. \n",
    "\n",
    "the indexes in the decision matrix are given by:\n",
    "\n",
    "1 - criminality\n",
    "2 - accidents\n",
    "3 - nature\n",
    "4 - duration\n",
    "6 - traffic\n",
    "7 - length\n",
    "8 - polution"
   ]
  },
  {
   "cell_type": "code",
   "execution_count": null,
   "metadata": {},
   "outputs": [],
   "source": [
    "decision_matrix = [[1,3,7,7,5,1,1,3],          \n",
    "                   [0.33,1,7,7,1,2,2,3],        \n",
    "                   [0.14,0.14,1,2,0.2,0.2,0.14,0.5],\n",
    "                   [0.14,0.14,0.5,1,0.14,0.2,0.11,0.2],\n",
    "                   [0.2,1,5,7,1,0.33,1,3],\n",
    "                   [1, 0.5, 5, 5, 3, 1, 1, 1],\n",
    "                   [1,0.5, 7, 9, 1, 1, 1, 1],\n",
    "                   [0.33, 0.33, 2, 5, 0.33, 1, 1, 1]]"
   ]
  },
  {
   "cell_type": "code",
   "execution_count": null,
   "metadata": {},
   "outputs": [],
   "source": [
    "from pyDecision.algorithm import ahp_method\n",
    "\n",
    "weight_derivation = 'geometric'\n",
    "\n",
    "weights, rc = ahp_method(decision_matrix, wd = weight_derivation)\n",
    "\n",
    "for i in range(0, weights.shape[0]):\n",
    "  print('w(g'+str(i+1)+'): ', round(weights[i], 3))\n",
    "\n",
    "# Consistency Ratio\n",
    "print('RC: ' + str(round(rc, 2)))\n",
    "if (rc > 0.10):\n",
    "  print('The solution is inconsistent, the pairwise comparisons must be reviewed')\n",
    "else:\n",
    "  print('The solution is consistent')"
   ]
  },
  {
   "cell_type": "code",
   "execution_count": null,
   "metadata": {},
   "outputs": [],
   "source": [
    "df"
   ]
  },
  {
   "cell_type": "code",
   "execution_count": null,
   "metadata": {},
   "outputs": [],
   "source": [
    "user_test = df[df['setID'] == 56.0]"
   ]
  },
  {
   "cell_type": "code",
   "execution_count": null,
   "metadata": {},
   "outputs": [],
   "source": [
    "weights"
   ]
  },
  {
   "cell_type": "code",
   "execution_count": null,
   "metadata": {},
   "outputs": [],
   "source": [
    "user_test"
   ]
  },
  {
   "cell_type": "code",
   "execution_count": null,
   "metadata": {},
   "outputs": [],
   "source": [
    "def evaluate_routes(routes, weights, columns):\n",
    "    routes_parameters = routes[columns[1:]]\n",
    "    results_array = []\n",
    "    result = 0\n",
    "    for route in routes_parameters.iterrows():\n",
    "        result = np.multiply(np.array(route[1]), np.array(weights))\n",
    "        results_array.append(np.sum(result))\n",
    "    print(results_array)\n",
    "    return results_array"
   ]
  },
  {
   "cell_type": "code",
   "execution_count": null,
   "metadata": {},
   "outputs": [],
   "source": [
    "columns = ['ID', 'crimeNorm', 'accidentNorm', 'natureNorm', 'attractionNorm', 'durationNorm',\n",
    "        'trafficNorm', 'lengthNorm', 'polutionNorm']\n",
    "        \n",
    "evaluate_routes(user_test, weights, columns)"
   ]
  }
 ],
 "metadata": {
  "interpreter": {
   "hash": "80504be78e1d18024a0a4645b7900e3a13d1b1628afd2fd59063d89d6e84069e"
  },
  "kernelspec": {
   "display_name": "Python 3.10.4 ('webmedia_2022')",
   "language": "python",
   "name": "python3"
  },
  "language_info": {
   "codemirror_mode": {
    "name": "ipython",
    "version": 3
   },
   "file_extension": ".py",
   "mimetype": "text/x-python",
   "name": "python",
   "nbconvert_exporter": "python",
   "pygments_lexer": "ipython3",
   "version": "3.8.13"
  },
  "orig_nbformat": 4
 },
 "nbformat": 4,
 "nbformat_minor": 2
}
